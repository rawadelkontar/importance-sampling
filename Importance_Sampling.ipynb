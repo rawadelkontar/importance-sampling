{
 "cells": [
  {
   "cell_type": "markdown",
   "metadata": {},
   "source": [
    "## Importing libraries"
   ]
  },
  {
   "cell_type": "code",
   "execution_count": 180,
   "metadata": {},
   "outputs": [],
   "source": [
    "import pandas as pd\n",
    "import gzip\n",
    "import csv\n",
    "import json\n",
    "import datetime\n",
    "import matplotlib.pyplot as plt\n",
    "import numpy as np\n",
    "import scipy \n",
    "import dateutil\n",
    "from IPython.core.display import display, HTML\n",
    "import os\n",
    "\n",
    "import pylab\n",
    "\n",
    "from IPython.display import display\n",
    "from scipy import optimize"
   ]
  },
  {
   "cell_type": "markdown",
   "metadata": {},
   "source": [
    "## Read CSV file"
   ]
  },
  {
   "cell_type": "code",
   "execution_count": 181,
   "metadata": {},
   "outputs": [
    {
     "name": "stdout",
     "output_type": "stream",
     "text": [
      "Wall time: 389 ms\n"
     ]
    }
   ],
   "source": [
    "%%time\n",
    "df = pd.read_csv('example_dataset.csv',sep=',\\s+', delimiter=',', encoding=\"utf-8\", skipinitialspace=True)"
   ]
  },
  {
   "cell_type": "code",
   "execution_count": 182,
   "metadata": {},
   "outputs": [
    {
     "data": {
      "text/plain": [
       "Index(['nm_bedrooms', 'ceiling_fan', 'clothes_dryer', 'clothes_washer',\n",
       "       'cooking_range', 'cool_stpnt', 'cool_stpnt_ofst_mag',\n",
       "       'cool_stpnt_ofst_prd', 'dish_washer', 'ducts', 'nm_floors',\n",
       "       'foundation', 'garage', 'house_size', 'heating_fuel', 'heat_stpnt',\n",
       "       'heat_stpnt_ofst_mag', 'heat_stpnt_ofst_prd', 'hot_water_distribution',\n",
       "       'cool_efficiency', 'cool_type', 'heat_pump', 'heat_electricity',\n",
       "       'heat_natural_gas', 'heat_propane', 'is_heat_pump', 'infiltration',\n",
       "       'insulation_crawlspace', 'insulation_finished_basement',\n",
       "       'insulation_finished_roof', 'insulation_interzonal_floor',\n",
       "       'insulation_slab', 'insulation_unfinished_attic',\n",
       "       'insulation_unfinished_basement', 'insulation_wall', 'lighting',\n",
       "       'location', 'extra_refrigerator', 'freezer', 'gas_fireplace', 'hot_tub',\n",
       "       'pool', 'well_pump', 'neighbors', 'orientation', 'plug_loads',\n",
       "       'pool_heater', 'pool_pump', 'refrigerator', 'roof_material', 'vintage',\n",
       "       'water_heater', 'windows', 'total_site_energy'],\n",
       "      dtype='object')"
      ]
     },
     "execution_count": 182,
     "metadata": {},
     "output_type": "execute_result"
    }
   ],
   "source": [
    "# show all headers\n",
    "df.columns"
   ]
  },
  {
   "cell_type": "markdown",
   "metadata": {},
   "source": [
    "## Select specific variables from data set"
   ]
  },
  {
   "cell_type": "code",
   "execution_count": 183,
   "metadata": {},
   "outputs": [
    {
     "data": {
      "text/html": [
       "<div>\n",
       "<style scoped>\n",
       "    .dataframe tbody tr th:only-of-type {\n",
       "        vertical-align: middle;\n",
       "    }\n",
       "\n",
       "    .dataframe tbody tr th {\n",
       "        vertical-align: top;\n",
       "    }\n",
       "\n",
       "    .dataframe thead th {\n",
       "        text-align: right;\n",
       "    }\n",
       "</style>\n",
       "<table border=\"1\" class=\"dataframe\">\n",
       "  <thead>\n",
       "    <tr style=\"text-align: right;\">\n",
       "      <th></th>\n",
       "      <th>nm_bedrooms</th>\n",
       "      <th>house_size</th>\n",
       "      <th>total_site_energy</th>\n",
       "    </tr>\n",
       "  </thead>\n",
       "  <tbody>\n",
       "    <tr>\n",
       "      <th>0</th>\n",
       "      <td>2.0</td>\n",
       "      <td>1500-2499_LA</td>\n",
       "      <td>48.623018</td>\n",
       "    </tr>\n",
       "    <tr>\n",
       "      <th>1</th>\n",
       "      <td>3.0</td>\n",
       "      <td>0-1499_LA</td>\n",
       "      <td>38.585635</td>\n",
       "    </tr>\n",
       "    <tr>\n",
       "      <th>2</th>\n",
       "      <td>2.0</td>\n",
       "      <td>0-1499_LA</td>\n",
       "      <td>29.628763</td>\n",
       "    </tr>\n",
       "    <tr>\n",
       "      <th>3</th>\n",
       "      <td>3.0</td>\n",
       "      <td>0-1499_LA</td>\n",
       "      <td>35.808531</td>\n",
       "    </tr>\n",
       "    <tr>\n",
       "      <th>4</th>\n",
       "      <td>3.0</td>\n",
       "      <td>1500-2499_LA</td>\n",
       "      <td>70.214292</td>\n",
       "    </tr>\n",
       "  </tbody>\n",
       "</table>\n",
       "</div>"
      ],
      "text/plain": [
       "   nm_bedrooms    house_size  total_site_energy\n",
       "0          2.0  1500-2499_LA          48.623018\n",
       "1          3.0     0-1499_LA          38.585635\n",
       "2          2.0     0-1499_LA          29.628763\n",
       "3          3.0     0-1499_LA          35.808531\n",
       "4          3.0  1500-2499_LA          70.214292"
      ]
     },
     "execution_count": 183,
     "metadata": {},
     "output_type": "execute_result"
    }
   ],
   "source": [
    "\n",
    "df = df[[ 'nm_bedrooms', 'house_size',#'ceiling_fan', 'clothes_dryer', 'clothes_washer',\n",
    "         #'cooking_range', 'cool_stpnt', 'cool_stpnt_ofst_mag',\n",
    "        #'cool_stpnt_ofst_prd', 'dish_washer', 'ducts', 'nm_floors',\n",
    "         #'foundation', 'garage', 'house_size', 'heating_fuel', 'heat_stpnt',\n",
    "         #'heat_stpnt_ofst_mag', 'heat_stpnt_ofst_prd', 'hot_water_distribution',\n",
    "         #'cool_efficiency', 'cool_type', 'heat_pump', 'heat_electricity',\n",
    "         #'heat_natural_gas', 'heat_propane', 'is_heat_pump', 'infiltration', \n",
    "         #'lighting','location', 'extra_refrigerator', 'freezer', 'gas_fireplace', 'hot_tub',\n",
    "         #'pool','well_pump', 'neighbors',\n",
    "         #'pool_heater', 'pool_pump', 'refrigerator', 'roof_material', 'vintage',\n",
    "         #'water_heater', 'windows',\n",
    "         'total_site_energy' ]]\n",
    "\n",
    "df.head(5)"
   ]
  },
  {
   "cell_type": "markdown",
   "metadata": {},
   "source": [
    "## Method to update distriubtion based on new mean and variance"
   ]
  },
  {
   "cell_type": "code",
   "execution_count": 184,
   "metadata": {},
   "outputs": [],
   "source": [
    "\n",
    "def newWeightOptimization(oldWeights,vals,newMean,numberOfMoments):\n",
    "    #recommended Number of moments = len(oldWeights)\n",
    "    numberOfMoments = len(oldWeights)\n",
    "    oldMean = 0\n",
    "    for i in range(len(oldWeights)):\n",
    "        oldMean += oldWeights[i]*vals[i]\n",
    "    \n",
    "    #calculate moments:\n",
    "    moments = np.zeros(numberOfMoments)\n",
    "    for i in range(numberOfMoments):\n",
    "        for j in range(len(oldWeights)):\n",
    "            moments[i]+=oldWeights[j]*((vals[j]-oldMean)**(i+2))\n",
    "    \n",
    "    bounds = []\n",
    "    for i in range(len(oldWeights)):\n",
    "        bounds.append((0,1))\n",
    "    bounds = tuple(bounds)\n",
    "    \n",
    "    constraints = [{'type':'eq', 'fun':lambda x:np.sum(x)-1},{'type':'eq','fun':lambda x: np.dot(x,vals)-newMean}]\n",
    "    \n",
    "    def _func(x):\n",
    "        \n",
    "        Xmatrix = np.zeros((numberOfMoments,len(oldWeights)))\n",
    "\n",
    "        for i in range(numberOfMoments):\n",
    "            for j in range(len(oldWeights)):\n",
    "                Xmatrix[i,j] = (vals[j]-newMean)**(i+2)\n",
    "                \n",
    "        Xmatrix /= np.linalg.norm(Xmatrix)\n",
    "        #Xmatrix*=100\n",
    "        objective = 0\n",
    "        for i in range(numberOfMoments):\n",
    "            objective += ((.5)*i)*(Xmatrix[i,:].dot(x))**2\n",
    "        \n",
    "        #optional regularization:\n",
    "        \n",
    "#         for i in range(len(x)):\n",
    "#             objective += newMean*x[i]*np.log(x[i])\n",
    "            \n",
    "        return objective\n",
    "    x0 = np.random.rand(len(oldWeights))\n",
    "    x0/=sum(x0)\n",
    "    res = optimize.minimize(_func,x0,bounds=bounds,constraints=constraints)\n",
    "    \n",
    "    return res.x\n",
    "                \n",
    "\n",
    "\n",
    "def weighted_avg_and_std(values, weights):\n",
    "    \"\"\"\n",
    "    Return the weighted average and standard deviation.\n",
    "\n",
    "    values, weights -- Numpy ndarrays with the same shape.\n",
    "    \"\"\"\n",
    "    average = np.average(values, weights=weights)\n",
    "    # Fast and numerically precise:\n",
    "    variance = np.average((values-average)**2, weights=weights)\n",
    "    return (average, np.sqrt(variance))\n"
   ]
  },
  {
   "cell_type": "markdown",
   "metadata": {},
   "source": [
    "## 1- Adding sample distribution columns to dataset"
   ]
  },
  {
   "cell_type": "code",
   "execution_count": 185,
   "metadata": {},
   "outputs": [
    {
     "name": "stdout",
     "output_type": "stream",
     "text": [
      "Processing nm_bedrooms\n",
      "Processing house_size\n",
      "Wall time: 1.29 s\n"
     ]
    }
   ],
   "source": [
    "%%time\n",
    "\n",
    "# get lenght of dataframe\n",
    "N = float(len(df))\n",
    "\n",
    "# get distributions \n",
    "for c in df.columns:  \n",
    "        if c == 'total_site_energy' or c == 'weight':\n",
    "            continue\n",
    "        print(f\"Processing {c}\")\n",
    "        counts = df[c].value_counts()\n",
    "        \n",
    "        # find distributions and add distribution columns to dataframe\n",
    "        df[c+'_dist'] = df[c].map(lambda x: counts.loc[x]) / N\n"
   ]
  },
  {
   "cell_type": "code",
   "execution_count": 186,
   "metadata": {},
   "outputs": [
    {
     "data": {
      "text/html": [
       "<div>\n",
       "<style scoped>\n",
       "    .dataframe tbody tr th:only-of-type {\n",
       "        vertical-align: middle;\n",
       "    }\n",
       "\n",
       "    .dataframe tbody tr th {\n",
       "        vertical-align: top;\n",
       "    }\n",
       "\n",
       "    .dataframe thead th {\n",
       "        text-align: right;\n",
       "    }\n",
       "</style>\n",
       "<table border=\"1\" class=\"dataframe\">\n",
       "  <thead>\n",
       "    <tr style=\"text-align: right;\">\n",
       "      <th></th>\n",
       "      <th>nm_bedrooms</th>\n",
       "      <th>house_size</th>\n",
       "      <th>total_site_energy</th>\n",
       "      <th>nm_bedrooms_dist</th>\n",
       "      <th>house_size_dist</th>\n",
       "    </tr>\n",
       "  </thead>\n",
       "  <tbody>\n",
       "    <tr>\n",
       "      <th>0</th>\n",
       "      <td>2.0</td>\n",
       "      <td>1500-2499_LA</td>\n",
       "      <td>48.623018</td>\n",
       "      <td>0.618445</td>\n",
       "      <td>0.351943</td>\n",
       "    </tr>\n",
       "    <tr>\n",
       "      <th>1</th>\n",
       "      <td>3.0</td>\n",
       "      <td>0-1499_LA</td>\n",
       "      <td>38.585635</td>\n",
       "      <td>0.255266</td>\n",
       "      <td>0.491407</td>\n",
       "    </tr>\n",
       "    <tr>\n",
       "      <th>2</th>\n",
       "      <td>2.0</td>\n",
       "      <td>0-1499_LA</td>\n",
       "      <td>29.628763</td>\n",
       "      <td>0.618445</td>\n",
       "      <td>0.491407</td>\n",
       "    </tr>\n",
       "    <tr>\n",
       "      <th>3</th>\n",
       "      <td>3.0</td>\n",
       "      <td>0-1499_LA</td>\n",
       "      <td>35.808531</td>\n",
       "      <td>0.255266</td>\n",
       "      <td>0.491407</td>\n",
       "    </tr>\n",
       "    <tr>\n",
       "      <th>4</th>\n",
       "      <td>3.0</td>\n",
       "      <td>1500-2499_LA</td>\n",
       "      <td>70.214292</td>\n",
       "      <td>0.255266</td>\n",
       "      <td>0.351943</td>\n",
       "    </tr>\n",
       "  </tbody>\n",
       "</table>\n",
       "</div>"
      ],
      "text/plain": [
       "   nm_bedrooms    house_size  total_site_energy  nm_bedrooms_dist  \\\n",
       "0          2.0  1500-2499_LA          48.623018          0.618445   \n",
       "1          3.0     0-1499_LA          38.585635          0.255266   \n",
       "2          2.0     0-1499_LA          29.628763          0.618445   \n",
       "3          3.0     0-1499_LA          35.808531          0.255266   \n",
       "4          3.0  1500-2499_LA          70.214292          0.255266   \n",
       "\n",
       "   house_size_dist  \n",
       "0         0.351943  \n",
       "1         0.491407  \n",
       "2         0.491407  \n",
       "3         0.491407  \n",
       "4         0.351943  "
      ]
     },
     "execution_count": 186,
     "metadata": {},
     "output_type": "execute_result"
    }
   ],
   "source": [
    "# resulting dataframe\n",
    "df.head()"
   ]
  },
  {
   "cell_type": "markdown",
   "metadata": {},
   "source": [
    "# 2- Adding target distributions to data set"
   ]
  },
  {
   "cell_type": "code",
   "execution_count": 187,
   "metadata": {},
   "outputs": [
    {
     "data": {
      "text/plain": [
       "2.3933198202167976"
      ]
     },
     "execution_count": 187,
     "metadata": {},
     "output_type": "execute_result"
    }
   ],
   "source": [
    "# decide what variable you want to change ( ex. set a new target distribution for number of bedrooms)\n",
    "# find what is the mean of this variable and what would be your target mean\n",
    "df.nm_bedrooms.mean()"
   ]
  },
  {
   "cell_type": "code",
   "execution_count": 188,
   "metadata": {},
   "outputs": [
    {
     "name": "stdout",
     "output_type": "stream",
     "text": [
      "*************Processing nm_bedrooms**************\n",
      "old_dist = {2.0: 0.6184454040715608, 3.0: 0.255265708997973, 1.0: 0.04498986516259804, 5.0: 0.012646514497223937, 4.0: 0.0651714109456244, 6.0: 0.0026438706265973387, 7.0: 0.0008372256984224906}\n",
      "new_dist = {2.0: 0.13317772925192092, 3.0: 0.24394081926750583, 1.0: 0.21684623207329948, 5.0: 0.16083497399124735, 4.0: 0.2452002454160262, 6.0: 0.0, 7.0: 5.551115123125783e-17}\n",
      "*************Processing house_size**************\n",
      "old_dist = {'1500-2499_LA': 0.35194324491054907, '0-1499_LA': 0.4914074204635587, '3500+_LA': 0.053979025293029, '2500-3499_LA': 0.10267030933286331}\n",
      "new_dist = {'1500-2499_LA': 0.35194324491054907, '0-1499_LA': 0.4914074204635587, '3500+_LA': 0.053979025293029, '2500-3499_LA': 0.10267030933286331}\n",
      "Wall time: 36.2 ms\n"
     ]
    }
   ],
   "source": [
    "%%time\n",
    "# generate target distributions\n",
    "for c in df.columns:  \n",
    "    \n",
    "        if '_dist' not in c and '_target' not in c and 'site_energy' not in c and 'weight' not in c:\n",
    "            \n",
    "            print(f\"*************Processing {c}**************\")\n",
    "            # zip variables and distributions\n",
    "            z = dict(zip(df[c],df[c+'_dist']))\n",
    "            print (f\"old_dist = {z}\")\n",
    "\n",
    "            ### set inputs to weightConverion method\n",
    "            #set vals\n",
    "            vals = np.array(list(z.keys()))\n",
    "            #set oldDist\n",
    "            oldDist = np.array(list(z.values()))\n",
    "            #set targeted means of each variable distribution that is going to change\n",
    "            if c == 'nm_bedrooms':\n",
    "                newMean = 3\n",
    "            #for non changing variables the target distribution will be same as the original distribution\n",
    "            else: \n",
    "                print (f\"new_dist = {z}\")\n",
    "                df[c+'_target'] = df[c+'_dist']\n",
    "                continue\n",
    "                \n",
    "            numberOfMoments = 3\n",
    "\n",
    "            # find target distributions(weights) for each variable that have a new target mean\n",
    "            w = newWeightOptimization(oldDist,vals,newMean,numberOfMoments)\n",
    "            # output new distributions as a list\n",
    "            w = w.tolist()\n",
    "            \n",
    "            #zip weight and values\n",
    "            new_dist = dict(zip(vals,w))\n",
    "            print(f\"new_dist = {new_dist}\")\n",
    "\n",
    "            # layout target distribution in data frame\n",
    "            y=[]\n",
    "            for x in df[c]:\n",
    "                y.append(new_dist[x])\n",
    "\n",
    "            df[c+'_target'] = y"
   ]
  },
  {
   "cell_type": "code",
   "execution_count": 189,
   "metadata": {},
   "outputs": [
    {
     "data": {
      "text/html": [
       "<div>\n",
       "<style scoped>\n",
       "    .dataframe tbody tr th:only-of-type {\n",
       "        vertical-align: middle;\n",
       "    }\n",
       "\n",
       "    .dataframe tbody tr th {\n",
       "        vertical-align: top;\n",
       "    }\n",
       "\n",
       "    .dataframe thead th {\n",
       "        text-align: right;\n",
       "    }\n",
       "</style>\n",
       "<table border=\"1\" class=\"dataframe\">\n",
       "  <thead>\n",
       "    <tr style=\"text-align: right;\">\n",
       "      <th></th>\n",
       "      <th>nm_bedrooms</th>\n",
       "      <th>house_size</th>\n",
       "      <th>total_site_energy</th>\n",
       "      <th>nm_bedrooms_dist</th>\n",
       "      <th>house_size_dist</th>\n",
       "      <th>nm_bedrooms_target</th>\n",
       "      <th>house_size_target</th>\n",
       "    </tr>\n",
       "  </thead>\n",
       "  <tbody>\n",
       "    <tr>\n",
       "      <th>0</th>\n",
       "      <td>2.0</td>\n",
       "      <td>1500-2499_LA</td>\n",
       "      <td>48.623018</td>\n",
       "      <td>0.618445</td>\n",
       "      <td>0.351943</td>\n",
       "      <td>0.133178</td>\n",
       "      <td>0.351943</td>\n",
       "    </tr>\n",
       "    <tr>\n",
       "      <th>1</th>\n",
       "      <td>3.0</td>\n",
       "      <td>0-1499_LA</td>\n",
       "      <td>38.585635</td>\n",
       "      <td>0.255266</td>\n",
       "      <td>0.491407</td>\n",
       "      <td>0.243941</td>\n",
       "      <td>0.491407</td>\n",
       "    </tr>\n",
       "    <tr>\n",
       "      <th>2</th>\n",
       "      <td>2.0</td>\n",
       "      <td>0-1499_LA</td>\n",
       "      <td>29.628763</td>\n",
       "      <td>0.618445</td>\n",
       "      <td>0.491407</td>\n",
       "      <td>0.133178</td>\n",
       "      <td>0.491407</td>\n",
       "    </tr>\n",
       "    <tr>\n",
       "      <th>3</th>\n",
       "      <td>3.0</td>\n",
       "      <td>0-1499_LA</td>\n",
       "      <td>35.808531</td>\n",
       "      <td>0.255266</td>\n",
       "      <td>0.491407</td>\n",
       "      <td>0.243941</td>\n",
       "      <td>0.491407</td>\n",
       "    </tr>\n",
       "    <tr>\n",
       "      <th>4</th>\n",
       "      <td>3.0</td>\n",
       "      <td>1500-2499_LA</td>\n",
       "      <td>70.214292</td>\n",
       "      <td>0.255266</td>\n",
       "      <td>0.351943</td>\n",
       "      <td>0.243941</td>\n",
       "      <td>0.351943</td>\n",
       "    </tr>\n",
       "  </tbody>\n",
       "</table>\n",
       "</div>"
      ],
      "text/plain": [
       "   nm_bedrooms    house_size  total_site_energy  nm_bedrooms_dist  \\\n",
       "0          2.0  1500-2499_LA          48.623018          0.618445   \n",
       "1          3.0     0-1499_LA          38.585635          0.255266   \n",
       "2          2.0     0-1499_LA          29.628763          0.618445   \n",
       "3          3.0     0-1499_LA          35.808531          0.255266   \n",
       "4          3.0  1500-2499_LA          70.214292          0.255266   \n",
       "\n",
       "   house_size_dist  nm_bedrooms_target  house_size_target  \n",
       "0         0.351943            0.133178           0.351943  \n",
       "1         0.491407            0.243941           0.491407  \n",
       "2         0.491407            0.133178           0.491407  \n",
       "3         0.491407            0.243941           0.491407  \n",
       "4         0.351943            0.243941           0.351943  "
      ]
     },
     "execution_count": 189,
     "metadata": {},
     "output_type": "execute_result"
    }
   ],
   "source": [
    "#resulting dataframe\n",
    "pd.set_option('display.max_columns', 100)\n",
    "df.head()"
   ]
  },
  {
   "cell_type": "markdown",
   "metadata": {},
   "source": [
    "## 3- Applying weighting method"
   ]
  },
  {
   "cell_type": "code",
   "execution_count": 190,
   "metadata": {},
   "outputs": [
    {
     "name": "stdout",
     "output_type": "stream",
     "text": [
      "Wall time: 992 µs\n"
     ]
    }
   ],
   "source": [
    "%%time\n",
    "#add Weight column to data frame (note that this weight column is for the whole dataframe and not for each column)\n",
    "# the all the Weights are intialized to be 1 as a start\n",
    "df[\"weight\"] = 1 \n",
    "\n",
    "# Set Solving tolerance\n",
    "tol=1e-5\n",
    "\n",
    "# Initialize delta weight\n",
    "delta_w_norm = 1.0/tol\n"
   ]
  },
  {
   "cell_type": "code",
   "execution_count": 191,
   "metadata": {},
   "outputs": [
    {
     "data": {
      "text/html": [
       "<div>\n",
       "<style scoped>\n",
       "    .dataframe tbody tr th:only-of-type {\n",
       "        vertical-align: middle;\n",
       "    }\n",
       "\n",
       "    .dataframe tbody tr th {\n",
       "        vertical-align: top;\n",
       "    }\n",
       "\n",
       "    .dataframe thead th {\n",
       "        text-align: right;\n",
       "    }\n",
       "</style>\n",
       "<table border=\"1\" class=\"dataframe\">\n",
       "  <thead>\n",
       "    <tr style=\"text-align: right;\">\n",
       "      <th></th>\n",
       "      <th>nm_bedrooms</th>\n",
       "      <th>house_size</th>\n",
       "      <th>total_site_energy</th>\n",
       "      <th>nm_bedrooms_dist</th>\n",
       "      <th>house_size_dist</th>\n",
       "      <th>nm_bedrooms_target</th>\n",
       "      <th>house_size_target</th>\n",
       "      <th>weight</th>\n",
       "    </tr>\n",
       "  </thead>\n",
       "  <tbody>\n",
       "    <tr>\n",
       "      <th>0</th>\n",
       "      <td>2.0</td>\n",
       "      <td>1500-2499_LA</td>\n",
       "      <td>48.623018</td>\n",
       "      <td>0.618445</td>\n",
       "      <td>0.351943</td>\n",
       "      <td>0.133178</td>\n",
       "      <td>0.351943</td>\n",
       "      <td>1</td>\n",
       "    </tr>\n",
       "    <tr>\n",
       "      <th>1</th>\n",
       "      <td>3.0</td>\n",
       "      <td>0-1499_LA</td>\n",
       "      <td>38.585635</td>\n",
       "      <td>0.255266</td>\n",
       "      <td>0.491407</td>\n",
       "      <td>0.243941</td>\n",
       "      <td>0.491407</td>\n",
       "      <td>1</td>\n",
       "    </tr>\n",
       "    <tr>\n",
       "      <th>2</th>\n",
       "      <td>2.0</td>\n",
       "      <td>0-1499_LA</td>\n",
       "      <td>29.628763</td>\n",
       "      <td>0.618445</td>\n",
       "      <td>0.491407</td>\n",
       "      <td>0.133178</td>\n",
       "      <td>0.491407</td>\n",
       "      <td>1</td>\n",
       "    </tr>\n",
       "    <tr>\n",
       "      <th>3</th>\n",
       "      <td>3.0</td>\n",
       "      <td>0-1499_LA</td>\n",
       "      <td>35.808531</td>\n",
       "      <td>0.255266</td>\n",
       "      <td>0.491407</td>\n",
       "      <td>0.243941</td>\n",
       "      <td>0.491407</td>\n",
       "      <td>1</td>\n",
       "    </tr>\n",
       "    <tr>\n",
       "      <th>4</th>\n",
       "      <td>3.0</td>\n",
       "      <td>1500-2499_LA</td>\n",
       "      <td>70.214292</td>\n",
       "      <td>0.255266</td>\n",
       "      <td>0.351943</td>\n",
       "      <td>0.243941</td>\n",
       "      <td>0.351943</td>\n",
       "      <td>1</td>\n",
       "    </tr>\n",
       "  </tbody>\n",
       "</table>\n",
       "</div>"
      ],
      "text/plain": [
       "   nm_bedrooms    house_size  total_site_energy  nm_bedrooms_dist  \\\n",
       "0          2.0  1500-2499_LA          48.623018          0.618445   \n",
       "1          3.0     0-1499_LA          38.585635          0.255266   \n",
       "2          2.0     0-1499_LA          29.628763          0.618445   \n",
       "3          3.0     0-1499_LA          35.808531          0.255266   \n",
       "4          3.0  1500-2499_LA          70.214292          0.255266   \n",
       "\n",
       "   house_size_dist  nm_bedrooms_target  house_size_target  weight  \n",
       "0         0.351943            0.133178           0.351943       1  \n",
       "1         0.491407            0.243941           0.491407       1  \n",
       "2         0.491407            0.133178           0.491407       1  \n",
       "3         0.491407            0.243941           0.491407       1  \n",
       "4         0.351943            0.243941           0.351943       1  "
      ]
     },
     "execution_count": 191,
     "metadata": {},
     "output_type": "execute_result"
    }
   ],
   "source": [
    "#resulting dataframe\n",
    "df.head()"
   ]
  },
  {
   "cell_type": "markdown",
   "metadata": {},
   "source": [
    "### running weighting method"
   ]
  },
  {
   "cell_type": "code",
   "execution_count": 192,
   "metadata": {},
   "outputs": [
    {
     "name": "stdout",
     "output_type": "stream",
     "text": [
      "********processing nm_bedrooms***********\n",
      "********processing house_size***********\n",
      "NORM DELTA_W ==== 0.012012902536123148\n",
      "********processing nm_bedrooms***********\n",
      "********processing house_size***********\n",
      "NORM DELTA_W ==== 0.007154362780781536\n",
      "********processing nm_bedrooms***********\n",
      "********processing house_size***********\n",
      "NORM DELTA_W ==== 0.0\n"
     ]
    },
    {
     "data": {
      "text/plain": [
       "[<matplotlib.lines.Line2D at 0x274c2ae0fd0>]"
      ]
     },
     "execution_count": 192,
     "metadata": {},
     "output_type": "execute_result"
    },
    {
     "data": {
      "image/png": "[encoded data removed]",
      "text/plain": [
       "<Figure size 432x288 with 1 Axes>"
      ]
     },
     "metadata": {
      "needs_background": "light"
     },
     "output_type": "display_data"
    }
   ],
   "source": [
    "#%%time\n",
    "# initialize number of itterations\n",
    "count = 0\n",
    "itterations = []\n",
    "# initialize delta_w list \n",
    "delta_w_list = []\n",
    "\n",
    "#initilize total weight\n",
    "tW = df.weight.sum()\n",
    "\n",
    "# while the delta weigth norm is less than the tolerance\n",
    "while delta_w_norm > tol:\n",
    "    \n",
    "    # get w_old\n",
    "    w_old = df['weight']  \n",
    "    \n",
    "    # add number of itterations to a list\n",
    "    count += 1\n",
    "    itterations.append(count)\n",
    "    \n",
    "    \n",
    "    #change original distributions\n",
    "    #distribution = weight for a corresponing categroy of a variable / tW \n",
    "    for c in df.columns:\n",
    "\n",
    "        if 'total_site_energy' not in c and 'weight' not in c and '_dist' not in c and '_target' not in c and '_weight' not in c:\n",
    "\n",
    "            print (f\"********processing {c}***********\")   \n",
    "            a = df[[c , 'weight']].groupby(c, as_index = False ).sum()\n",
    "            dict_a = dict(zip(a[c], a['weight']))          \n",
    "            df[c+'_dist'] = df[c].map(lambda x: dict_a[x]/tW)\n",
    "            \n",
    "    \n",
    "    \n",
    "    #apply reweighting\n",
    "    for c in df.columns:\n",
    "        \n",
    "        if 'total_site_energy' not in c and 'weight' not in c and '_dist' not in c and '_target' not in c and '_weight' not in c:\n",
    "\n",
    "            # find weights for each variable\n",
    "            #new weight = target distribution / sample distribution\n",
    "            #df[c+'_weight'] = df[c+'_target'] / df[c+'_dist']                     \n",
    "\n",
    "            # multiple by main weight column\n",
    "            #df['weight'] =  df['weight'] * df[c+'_weight']\n",
    "            \n",
    "            #both steps in 1\n",
    "            df['weight'] = (df[c+'_target'] / df[c+'_dist']) * df['weight']\n",
    "\n",
    "\n",
    "    # find new weight of output; w_new\n",
    "    w_new = df['weight']\n",
    "    #print (f\"NEW WEIGHT COLUMN IS === {w_new}\")\n",
    "    #print (f\"OLD WEIGHT COLUMN IS === {w_old}\")\n",
    "    #print (f\"w_new = {w_new.head()}\")\n",
    "    \n",
    "    # find delta weight\n",
    "    delta_w = np.abs(w_old - w_new)\n",
    "    \n",
    "    #delta_w_max = delta_w.max()\n",
    "    delta_w_norm = np.sqrt(np.sum(np.power(delta_w,2.0)))/float(len(delta_w))\n",
    "    \n",
    "    #print (\"*****************************************************************\")\n",
    "    print(f\"NORM DELTA_W ==== {delta_w_norm}\")\n",
    "    #print(f\"MAX DELTA_W ==== {delta_w_max}\")\n",
    "    #print (\"*****************************************************************\")\n",
    "\n",
    "    # put delta_w in a list \n",
    "    delta_w_list.append(delta_w_norm)\n",
    "\n",
    "plt.plot(itterations, delta_w_list)"
   ]
  },
  {
   "cell_type": "code",
   "execution_count": 193,
   "metadata": {},
   "outputs": [
    {
     "data": {
      "text/html": [
       "<div>\n",
       "<style scoped>\n",
       "    .dataframe tbody tr th:only-of-type {\n",
       "        vertical-align: middle;\n",
       "    }\n",
       "\n",
       "    .dataframe tbody tr th {\n",
       "        vertical-align: top;\n",
       "    }\n",
       "\n",
       "    .dataframe thead th {\n",
       "        text-align: right;\n",
       "    }\n",
       "</style>\n",
       "<table border=\"1\" class=\"dataframe\">\n",
       "  <thead>\n",
       "    <tr style=\"text-align: right;\">\n",
       "      <th></th>\n",
       "      <th>nm_bedrooms</th>\n",
       "      <th>house_size</th>\n",
       "      <th>total_site_energy</th>\n",
       "      <th>nm_bedrooms_dist</th>\n",
       "      <th>house_size_dist</th>\n",
       "      <th>nm_bedrooms_target</th>\n",
       "      <th>house_size_target</th>\n",
       "      <th>weight</th>\n",
       "    </tr>\n",
       "  </thead>\n",
       "  <tbody>\n",
       "    <tr>\n",
       "      <th>0</th>\n",
       "      <td>2.0</td>\n",
       "      <td>1500-2499_LA</td>\n",
       "      <td>48.623018</td>\n",
       "      <td>0.175051</td>\n",
       "      <td>0.351943</td>\n",
       "      <td>0.133178</td>\n",
       "      <td>0.351943</td>\n",
       "      <td>0.217184</td>\n",
       "    </tr>\n",
       "    <tr>\n",
       "      <th>1</th>\n",
       "      <td>3.0</td>\n",
       "      <td>0-1499_LA</td>\n",
       "      <td>38.585635</td>\n",
       "      <td>0.269650</td>\n",
       "      <td>0.491407</td>\n",
       "      <td>0.243941</td>\n",
       "      <td>0.491407</td>\n",
       "      <td>1.181274</td>\n",
       "    </tr>\n",
       "    <tr>\n",
       "      <th>2</th>\n",
       "      <td>2.0</td>\n",
       "      <td>0-1499_LA</td>\n",
       "      <td>29.628763</td>\n",
       "      <td>0.175051</td>\n",
       "      <td>0.491407</td>\n",
       "      <td>0.133178</td>\n",
       "      <td>0.491407</td>\n",
       "      <td>0.223858</td>\n",
       "    </tr>\n",
       "    <tr>\n",
       "      <th>3</th>\n",
       "      <td>3.0</td>\n",
       "      <td>0-1499_LA</td>\n",
       "      <td>35.808531</td>\n",
       "      <td>0.269650</td>\n",
       "      <td>0.491407</td>\n",
       "      <td>0.243941</td>\n",
       "      <td>0.491407</td>\n",
       "      <td>1.181274</td>\n",
       "    </tr>\n",
       "    <tr>\n",
       "      <th>4</th>\n",
       "      <td>3.0</td>\n",
       "      <td>1500-2499_LA</td>\n",
       "      <td>70.214292</td>\n",
       "      <td>0.269650</td>\n",
       "      <td>0.351943</td>\n",
       "      <td>0.243941</td>\n",
       "      <td>0.351943</td>\n",
       "      <td>1.146058</td>\n",
       "    </tr>\n",
       "  </tbody>\n",
       "</table>\n",
       "</div>"
      ],
      "text/plain": [
       "   nm_bedrooms    house_size  total_site_energy  nm_bedrooms_dist  \\\n",
       "0          2.0  1500-2499_LA          48.623018          0.175051   \n",
       "1          3.0     0-1499_LA          38.585635          0.269650   \n",
       "2          2.0     0-1499_LA          29.628763          0.175051   \n",
       "3          3.0     0-1499_LA          35.808531          0.269650   \n",
       "4          3.0  1500-2499_LA          70.214292          0.269650   \n",
       "\n",
       "   house_size_dist  nm_bedrooms_target  house_size_target    weight  \n",
       "0         0.351943            0.133178           0.351943  0.217184  \n",
       "1         0.491407            0.243941           0.491407  1.181274  \n",
       "2         0.491407            0.133178           0.491407  0.223858  \n",
       "3         0.491407            0.243941           0.491407  1.181274  \n",
       "4         0.351943            0.243941           0.351943  1.146058  "
      ]
     },
     "execution_count": 193,
     "metadata": {},
     "output_type": "execute_result"
    }
   ],
   "source": [
    "df.head()"
   ]
  },
  {
   "cell_type": "markdown",
   "metadata": {},
   "source": [
    "# Visualize results"
   ]
  },
  {
   "cell_type": "code",
   "execution_count": 194,
   "metadata": {},
   "outputs": [],
   "source": [
    "#len(itterations)"
   ]
  },
  {
   "cell_type": "code",
   "execution_count": 195,
   "metadata": {},
   "outputs": [],
   "source": [
    "#len(delta_w_list)"
   ]
  },
  {
   "cell_type": "code",
   "execution_count": 196,
   "metadata": {},
   "outputs": [],
   "source": [
    "#del itterations[-1]"
   ]
  },
  {
   "cell_type": "code",
   "execution_count": 197,
   "metadata": {},
   "outputs": [],
   "source": [
    "#len(itterations)"
   ]
  },
  {
   "cell_type": "code",
   "execution_count": 198,
   "metadata": {},
   "outputs": [
    {
     "data": {
      "image/png": "[encoded data removed]",
      "text/plain": [
       "<Figure size 432x288 with 1 Axes>"
      ]
     },
     "metadata": {
      "needs_background": "light"
     },
     "output_type": "display_data"
    }
   ],
   "source": [
    "fig = plt.figure()\n",
    "ax = fig.add_subplot(2, 1, 1)\n",
    "\n",
    "ax.plot(itterations, delta_w_list, color='blue', lw=2)\n",
    "\n",
    "ax.set_yscale('log')\n",
    "\n",
    "pylab.show()"
   ]
  },
  {
   "cell_type": "code",
   "execution_count": 495,
   "metadata": {},
   "outputs": [
    {
     "name": "stdout",
     "output_type": "stream",
     "text": [
      "[nan]\n",
      "[1]\n"
     ]
    }
   ],
   "source": [
    "print(delta_w_list)\n",
    "print(itterations)"
   ]
  },
  {
   "cell_type": "code",
   "execution_count": null,
   "metadata": {},
   "outputs": [],
   "source": []
  }
 ],
 "metadata": {
  "kernelspec": {
   "display_name": "Python 3",
   "language": "python",
   "name": "python3"
  },
  "language_info": {
   "codemirror_mode": {
    "name": "ipython",
    "version": 3
   },
   "file_extension": ".py",
   "mimetype": "text/x-python",
   "name": "python",
   "nbconvert_exporter": "python",
   "pygments_lexer": "ipython3",
   "version": "3.7.3"
  }
 },
 "nbformat": 4,
 "nbformat_minor": 2
}
